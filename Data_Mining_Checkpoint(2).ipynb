{
  "nbformat": 4,
  "nbformat_minor": 0,
  "metadata": {
    "colab": {
      "provenance": [],
      "collapsed_sections": [
        "4sOmCi50QH8d",
        "oZ0ynUalbSJK",
        "sePFiuEZROmY",
        "cFDmVPE8d9Yq",
        "N-RGRiG6fkBW",
        "1w0S3PmzfxFC",
        "MEpCShxoqdTl",
        "0CBZ3iBVDzNV",
        "a2YgxwpZF6hu",
        "-eMyhEM4J7Zl",
        "1GYX6HFBGe5J",
        "4dRjQE1PGm1J",
        "UE2PLg3eGqcr"
      ],
      "authorship_tag": "ABX9TyNW1Hx4jhnUNjokTVcJa14w",
      "include_colab_link": true
    },
    "kernelspec": {
      "name": "python3",
      "display_name": "Python 3"
    },
    "language_info": {
      "name": "python"
    }
  },
  "cells": [
    {
      "cell_type": "markdown",
      "metadata": {
        "id": "view-in-github",
        "colab_type": "text"
      },
      "source": [
        "<a href=\"https://colab.research.google.com/github/adhamkhautsar/A1_Adham-Khautsar-Leswono_2209116021_Data-Mining-A/blob/main/Data_Mining_Checkpoint(2).ipynb\" target=\"_parent\"><img src=\"https://colab.research.google.com/assets/colab-badge.svg\" alt=\"Open In Colab\"/></a>"
      ]
    },
    {
      "cell_type": "markdown",
      "source": [],
      "metadata": {
        "id": "SwUlqAY2P3uf"
      }
    },
    {
      "cell_type": "markdown",
      "source": [
        "# **2022 World Cup Stats**"
      ],
      "metadata": {
        "id": "4sOmCi50QH8d"
      }
    },
    {
      "cell_type": "markdown",
      "source": [
        "# **Import Library**"
      ],
      "metadata": {
        "id": "oZ0ynUalbSJK"
      }
    },
    {
      "cell_type": "code",
      "source": [
        "import seaborn as sns\n",
        "import matplotlib.pyplot as plt\n",
        "import pandas as pd\n",
        "import numpy as np"
      ],
      "metadata": {
        "id": "bl_KpbocbaD8"
      },
      "execution_count": null,
      "outputs": []
    },
    {
      "cell_type": "markdown",
      "source": [
        "# **BUSINESS UNDERSTANDING**"
      ],
      "metadata": {
        "id": "sePFiuEZROmY"
      }
    },
    {
      "cell_type": "markdown",
      "source": [
        "## **Business Objective**"
      ],
      "metadata": {
        "id": "Tq9iUuTqc0zF"
      }
    },
    {
      "cell_type": "markdown",
      "source": [
        "Memahami dan menganalisis kinerja tim sepakbola dalam Piala Dunia 2022 untuk mendapatkan wawasan yang berguna bagi tim, pelatih, dan penggemar."
      ],
      "metadata": {
        "id": "lwZl3MW3R8id"
      }
    },
    {
      "cell_type": "markdown",
      "source": [
        "## **Assess Situation**"
      ],
      "metadata": {
        "id": "i94UiK9PdAC2"
      }
    },
    {
      "cell_type": "markdown",
      "source": [
        "Meninjau kinerja tim dalam turnamen, tren permainan, performa pemain, dan faktor-faktor lain yang memengaruhi hasil pertandingan."
      ],
      "metadata": {
        "id": "l5qKO8PgUWNZ"
      }
    },
    {
      "cell_type": "markdown",
      "source": [
        "## **Data Mining Goals**"
      ],
      "metadata": {
        "id": "zMSVzt-ldIG3"
      }
    },
    {
      "cell_type": "markdown",
      "source": [
        "Menganalisis data statistik untuk mengidentifikasi pola, tren, dan faktor yang memengaruhi kinerja tim dan hasil pertandingan."
      ],
      "metadata": {
        "id": "-1yhcyZOUbFk"
      }
    },
    {
      "cell_type": "markdown",
      "source": [
        "Menetapkan langkah-langkah yang diperlukan untuk mengumpulkan, menganalisis, dan mengevaluasi data statistik Piala Dunia 2022."
      ],
      "metadata": {
        "id": "yhRWRFO6Ug7v"
      }
    },
    {
      "cell_type": "markdown",
      "source": [
        "**bold text**## Data Understanding"
      ],
      "metadata": {
        "id": "qL4fMYmyU3k8"
      }
    },
    {
      "cell_type": "markdown",
      "source": [
        "### Collect Initial Data"
      ],
      "metadata": {
        "id": "xP9A7y6EcEch"
      }
    },
    {
      "cell_type": "markdown",
      "source": [
        "# **DATA UNDERSTANDING**"
      ],
      "metadata": {
        "id": "dORyowZwVcrq"
      }
    },
    {
      "cell_type": "markdown",
      "source": [
        "## **Collect Initial Data**"
      ],
      "metadata": {
        "id": "cFDmVPE8d9Yq"
      }
    },
    {
      "cell_type": "code",
      "source": [
        "df = pd.read_csv('/content/2022worldcup.csv')\n",
        "df.head()"
      ],
      "metadata": {
        "colab": {
          "base_uri": "https://localhost:8080/",
          "height": 253
        },
        "id": "9oAUldyUeCbj",
        "outputId": "10ba83c4-653f-40c9-e5e6-311420363e0b"
      },
      "execution_count": null,
      "outputs": [
        {
          "output_type": "execute_result",
          "data": {
            "text/plain": [
              "       Squad  # Pl   Age  Poss  MP  Starts  Min  90s  Gls  Ast  ...  Gls90  \\\n",
              "0  Argentina    24  27.5  57.4   7      77  690  7.7   15    8  ...   1.96   \n",
              "1  Australia    20  27.8  37.8   4      44  360  4.0    3    3  ...   0.75   \n",
              "2    Belgium    20  29.7  57.0   3      33  270  3.0    1    1  ...   0.33   \n",
              "3     Brazil    26  27.6  56.2   5      55  480  5.3    8    6  ...   1.50   \n",
              "4   Cameroon    22  27.2  41.7   3      33  270  3.0    4    4  ...   1.33   \n",
              "\n",
              "   Ast90  G+A90  G-PK90  G+A-PK90  xG90  xAG90  xG+xAG90  npxG90  npxG+xAG90  \n",
              "0   1.04   3.00    1.43      2.48  1.96   1.00      2.97    1.47        2.48  \n",
              "1   0.75   1.50    0.75      1.50  0.58   0.48      1.06    0.58        1.06  \n",
              "2   0.33   0.67    0.33      0.67  1.57   1.27      2.85    1.57        2.85  \n",
              "3   1.13   2.62    1.31      2.44  2.24   1.54      3.79    2.09        3.64  \n",
              "4   1.33   2.67    1.33      2.67  1.14   0.66      1.80    1.14        1.80  \n",
              "\n",
              "[5 rows x 32 columns]"
            ],
            "text/html": [
              "\n",
              "  <div id=\"df-74747d49-10e7-4035-9f28-797f08b2a63b\" class=\"colab-df-container\">\n",
              "    <div>\n",
              "<style scoped>\n",
              "    .dataframe tbody tr th:only-of-type {\n",
              "        vertical-align: middle;\n",
              "    }\n",
              "\n",
              "    .dataframe tbody tr th {\n",
              "        vertical-align: top;\n",
              "    }\n",
              "\n",
              "    .dataframe thead th {\n",
              "        text-align: right;\n",
              "    }\n",
              "</style>\n",
              "<table border=\"1\" class=\"dataframe\">\n",
              "  <thead>\n",
              "    <tr style=\"text-align: right;\">\n",
              "      <th></th>\n",
              "      <th>Squad</th>\n",
              "      <th># Pl</th>\n",
              "      <th>Age</th>\n",
              "      <th>Poss</th>\n",
              "      <th>MP</th>\n",
              "      <th>Starts</th>\n",
              "      <th>Min</th>\n",
              "      <th>90s</th>\n",
              "      <th>Gls</th>\n",
              "      <th>Ast</th>\n",
              "      <th>...</th>\n",
              "      <th>Gls90</th>\n",
              "      <th>Ast90</th>\n",
              "      <th>G+A90</th>\n",
              "      <th>G-PK90</th>\n",
              "      <th>G+A-PK90</th>\n",
              "      <th>xG90</th>\n",
              "      <th>xAG90</th>\n",
              "      <th>xG+xAG90</th>\n",
              "      <th>npxG90</th>\n",
              "      <th>npxG+xAG90</th>\n",
              "    </tr>\n",
              "  </thead>\n",
              "  <tbody>\n",
              "    <tr>\n",
              "      <th>0</th>\n",
              "      <td>Argentina</td>\n",
              "      <td>24</td>\n",
              "      <td>27.5</td>\n",
              "      <td>57.4</td>\n",
              "      <td>7</td>\n",
              "      <td>77</td>\n",
              "      <td>690</td>\n",
              "      <td>7.7</td>\n",
              "      <td>15</td>\n",
              "      <td>8</td>\n",
              "      <td>...</td>\n",
              "      <td>1.96</td>\n",
              "      <td>1.04</td>\n",
              "      <td>3.00</td>\n",
              "      <td>1.43</td>\n",
              "      <td>2.48</td>\n",
              "      <td>1.96</td>\n",
              "      <td>1.00</td>\n",
              "      <td>2.97</td>\n",
              "      <td>1.47</td>\n",
              "      <td>2.48</td>\n",
              "    </tr>\n",
              "    <tr>\n",
              "      <th>1</th>\n",
              "      <td>Australia</td>\n",
              "      <td>20</td>\n",
              "      <td>27.8</td>\n",
              "      <td>37.8</td>\n",
              "      <td>4</td>\n",
              "      <td>44</td>\n",
              "      <td>360</td>\n",
              "      <td>4.0</td>\n",
              "      <td>3</td>\n",
              "      <td>3</td>\n",
              "      <td>...</td>\n",
              "      <td>0.75</td>\n",
              "      <td>0.75</td>\n",
              "      <td>1.50</td>\n",
              "      <td>0.75</td>\n",
              "      <td>1.50</td>\n",
              "      <td>0.58</td>\n",
              "      <td>0.48</td>\n",
              "      <td>1.06</td>\n",
              "      <td>0.58</td>\n",
              "      <td>1.06</td>\n",
              "    </tr>\n",
              "    <tr>\n",
              "      <th>2</th>\n",
              "      <td>Belgium</td>\n",
              "      <td>20</td>\n",
              "      <td>29.7</td>\n",
              "      <td>57.0</td>\n",
              "      <td>3</td>\n",
              "      <td>33</td>\n",
              "      <td>270</td>\n",
              "      <td>3.0</td>\n",
              "      <td>1</td>\n",
              "      <td>1</td>\n",
              "      <td>...</td>\n",
              "      <td>0.33</td>\n",
              "      <td>0.33</td>\n",
              "      <td>0.67</td>\n",
              "      <td>0.33</td>\n",
              "      <td>0.67</td>\n",
              "      <td>1.57</td>\n",
              "      <td>1.27</td>\n",
              "      <td>2.85</td>\n",
              "      <td>1.57</td>\n",
              "      <td>2.85</td>\n",
              "    </tr>\n",
              "    <tr>\n",
              "      <th>3</th>\n",
              "      <td>Brazil</td>\n",
              "      <td>26</td>\n",
              "      <td>27.6</td>\n",
              "      <td>56.2</td>\n",
              "      <td>5</td>\n",
              "      <td>55</td>\n",
              "      <td>480</td>\n",
              "      <td>5.3</td>\n",
              "      <td>8</td>\n",
              "      <td>6</td>\n",
              "      <td>...</td>\n",
              "      <td>1.50</td>\n",
              "      <td>1.13</td>\n",
              "      <td>2.62</td>\n",
              "      <td>1.31</td>\n",
              "      <td>2.44</td>\n",
              "      <td>2.24</td>\n",
              "      <td>1.54</td>\n",
              "      <td>3.79</td>\n",
              "      <td>2.09</td>\n",
              "      <td>3.64</td>\n",
              "    </tr>\n",
              "    <tr>\n",
              "      <th>4</th>\n",
              "      <td>Cameroon</td>\n",
              "      <td>22</td>\n",
              "      <td>27.2</td>\n",
              "      <td>41.7</td>\n",
              "      <td>3</td>\n",
              "      <td>33</td>\n",
              "      <td>270</td>\n",
              "      <td>3.0</td>\n",
              "      <td>4</td>\n",
              "      <td>4</td>\n",
              "      <td>...</td>\n",
              "      <td>1.33</td>\n",
              "      <td>1.33</td>\n",
              "      <td>2.67</td>\n",
              "      <td>1.33</td>\n",
              "      <td>2.67</td>\n",
              "      <td>1.14</td>\n",
              "      <td>0.66</td>\n",
              "      <td>1.80</td>\n",
              "      <td>1.14</td>\n",
              "      <td>1.80</td>\n",
              "    </tr>\n",
              "  </tbody>\n",
              "</table>\n",
              "<p>5 rows × 32 columns</p>\n",
              "</div>\n",
              "    <div class=\"colab-df-buttons\">\n",
              "\n",
              "  <div class=\"colab-df-container\">\n",
              "    <button class=\"colab-df-convert\" onclick=\"convertToInteractive('df-74747d49-10e7-4035-9f28-797f08b2a63b')\"\n",
              "            title=\"Convert this dataframe to an interactive table.\"\n",
              "            style=\"display:none;\">\n",
              "\n",
              "  <svg xmlns=\"http://www.w3.org/2000/svg\" height=\"24px\" viewBox=\"0 -960 960 960\">\n",
              "    <path d=\"M120-120v-720h720v720H120Zm60-500h600v-160H180v160Zm220 220h160v-160H400v160Zm0 220h160v-160H400v160ZM180-400h160v-160H180v160Zm440 0h160v-160H620v160ZM180-180h160v-160H180v160Zm440 0h160v-160H620v160Z\"/>\n",
              "  </svg>\n",
              "    </button>\n",
              "\n",
              "  <style>\n",
              "    .colab-df-container {\n",
              "      display:flex;\n",
              "      gap: 12px;\n",
              "    }\n",
              "\n",
              "    .colab-df-convert {\n",
              "      background-color: #E8F0FE;\n",
              "      border: none;\n",
              "      border-radius: 50%;\n",
              "      cursor: pointer;\n",
              "      display: none;\n",
              "      fill: #1967D2;\n",
              "      height: 32px;\n",
              "      padding: 0 0 0 0;\n",
              "      width: 32px;\n",
              "    }\n",
              "\n",
              "    .colab-df-convert:hover {\n",
              "      background-color: #E2EBFA;\n",
              "      box-shadow: 0px 1px 2px rgba(60, 64, 67, 0.3), 0px 1px 3px 1px rgba(60, 64, 67, 0.15);\n",
              "      fill: #174EA6;\n",
              "    }\n",
              "\n",
              "    .colab-df-buttons div {\n",
              "      margin-bottom: 4px;\n",
              "    }\n",
              "\n",
              "    [theme=dark] .colab-df-convert {\n",
              "      background-color: #3B4455;\n",
              "      fill: #D2E3FC;\n",
              "    }\n",
              "\n",
              "    [theme=dark] .colab-df-convert:hover {\n",
              "      background-color: #434B5C;\n",
              "      box-shadow: 0px 1px 3px 1px rgba(0, 0, 0, 0.15);\n",
              "      filter: drop-shadow(0px 1px 2px rgba(0, 0, 0, 0.3));\n",
              "      fill: #FFFFFF;\n",
              "    }\n",
              "  </style>\n",
              "\n",
              "    <script>\n",
              "      const buttonEl =\n",
              "        document.querySelector('#df-74747d49-10e7-4035-9f28-797f08b2a63b button.colab-df-convert');\n",
              "      buttonEl.style.display =\n",
              "        google.colab.kernel.accessAllowed ? 'block' : 'none';\n",
              "\n",
              "      async function convertToInteractive(key) {\n",
              "        const element = document.querySelector('#df-74747d49-10e7-4035-9f28-797f08b2a63b');\n",
              "        const dataTable =\n",
              "          await google.colab.kernel.invokeFunction('convertToInteractive',\n",
              "                                                    [key], {});\n",
              "        if (!dataTable) return;\n",
              "\n",
              "        const docLinkHtml = 'Like what you see? Visit the ' +\n",
              "          '<a target=\"_blank\" href=https://colab.research.google.com/notebooks/data_table.ipynb>data table notebook</a>'\n",
              "          + ' to learn more about interactive tables.';\n",
              "        element.innerHTML = '';\n",
              "        dataTable['output_type'] = 'display_data';\n",
              "        await google.colab.output.renderOutput(dataTable, element);\n",
              "        const docLink = document.createElement('div');\n",
              "        docLink.innerHTML = docLinkHtml;\n",
              "        element.appendChild(docLink);\n",
              "      }\n",
              "    </script>\n",
              "  </div>\n",
              "\n",
              "\n",
              "<div id=\"df-d6f14c15-09be-43cf-8a2a-b546c063a817\">\n",
              "  <button class=\"colab-df-quickchart\" onclick=\"quickchart('df-d6f14c15-09be-43cf-8a2a-b546c063a817')\"\n",
              "            title=\"Suggest charts\"\n",
              "            style=\"display:none;\">\n",
              "\n",
              "<svg xmlns=\"http://www.w3.org/2000/svg\" height=\"24px\"viewBox=\"0 0 24 24\"\n",
              "     width=\"24px\">\n",
              "    <g>\n",
              "        <path d=\"M19 3H5c-1.1 0-2 .9-2 2v14c0 1.1.9 2 2 2h14c1.1 0 2-.9 2-2V5c0-1.1-.9-2-2-2zM9 17H7v-7h2v7zm4 0h-2V7h2v10zm4 0h-2v-4h2v4z\"/>\n",
              "    </g>\n",
              "</svg>\n",
              "  </button>\n",
              "\n",
              "<style>\n",
              "  .colab-df-quickchart {\n",
              "      --bg-color: #E8F0FE;\n",
              "      --fill-color: #1967D2;\n",
              "      --hover-bg-color: #E2EBFA;\n",
              "      --hover-fill-color: #174EA6;\n",
              "      --disabled-fill-color: #AAA;\n",
              "      --disabled-bg-color: #DDD;\n",
              "  }\n",
              "\n",
              "  [theme=dark] .colab-df-quickchart {\n",
              "      --bg-color: #3B4455;\n",
              "      --fill-color: #D2E3FC;\n",
              "      --hover-bg-color: #434B5C;\n",
              "      --hover-fill-color: #FFFFFF;\n",
              "      --disabled-bg-color: #3B4455;\n",
              "      --disabled-fill-color: #666;\n",
              "  }\n",
              "\n",
              "  .colab-df-quickchart {\n",
              "    background-color: var(--bg-color);\n",
              "    border: none;\n",
              "    border-radius: 50%;\n",
              "    cursor: pointer;\n",
              "    display: none;\n",
              "    fill: var(--fill-color);\n",
              "    height: 32px;\n",
              "    padding: 0;\n",
              "    width: 32px;\n",
              "  }\n",
              "\n",
              "  .colab-df-quickchart:hover {\n",
              "    background-color: var(--hover-bg-color);\n",
              "    box-shadow: 0 1px 2px rgba(60, 64, 67, 0.3), 0 1px 3px 1px rgba(60, 64, 67, 0.15);\n",
              "    fill: var(--button-hover-fill-color);\n",
              "  }\n",
              "\n",
              "  .colab-df-quickchart-complete:disabled,\n",
              "  .colab-df-quickchart-complete:disabled:hover {\n",
              "    background-color: var(--disabled-bg-color);\n",
              "    fill: var(--disabled-fill-color);\n",
              "    box-shadow: none;\n",
              "  }\n",
              "\n",
              "  .colab-df-spinner {\n",
              "    border: 2px solid var(--fill-color);\n",
              "    border-color: transparent;\n",
              "    border-bottom-color: var(--fill-color);\n",
              "    animation:\n",
              "      spin 1s steps(1) infinite;\n",
              "  }\n",
              "\n",
              "  @keyframes spin {\n",
              "    0% {\n",
              "      border-color: transparent;\n",
              "      border-bottom-color: var(--fill-color);\n",
              "      border-left-color: var(--fill-color);\n",
              "    }\n",
              "    20% {\n",
              "      border-color: transparent;\n",
              "      border-left-color: var(--fill-color);\n",
              "      border-top-color: var(--fill-color);\n",
              "    }\n",
              "    30% {\n",
              "      border-color: transparent;\n",
              "      border-left-color: var(--fill-color);\n",
              "      border-top-color: var(--fill-color);\n",
              "      border-right-color: var(--fill-color);\n",
              "    }\n",
              "    40% {\n",
              "      border-color: transparent;\n",
              "      border-right-color: var(--fill-color);\n",
              "      border-top-color: var(--fill-color);\n",
              "    }\n",
              "    60% {\n",
              "      border-color: transparent;\n",
              "      border-right-color: var(--fill-color);\n",
              "    }\n",
              "    80% {\n",
              "      border-color: transparent;\n",
              "      border-right-color: var(--fill-color);\n",
              "      border-bottom-color: var(--fill-color);\n",
              "    }\n",
              "    90% {\n",
              "      border-color: transparent;\n",
              "      border-bottom-color: var(--fill-color);\n",
              "    }\n",
              "  }\n",
              "</style>\n",
              "\n",
              "  <script>\n",
              "    async function quickchart(key) {\n",
              "      const quickchartButtonEl =\n",
              "        document.querySelector('#' + key + ' button');\n",
              "      quickchartButtonEl.disabled = true;  // To prevent multiple clicks.\n",
              "      quickchartButtonEl.classList.add('colab-df-spinner');\n",
              "      try {\n",
              "        const charts = await google.colab.kernel.invokeFunction(\n",
              "            'suggestCharts', [key], {});\n",
              "      } catch (error) {\n",
              "        console.error('Error during call to suggestCharts:', error);\n",
              "      }\n",
              "      quickchartButtonEl.classList.remove('colab-df-spinner');\n",
              "      quickchartButtonEl.classList.add('colab-df-quickchart-complete');\n",
              "    }\n",
              "    (() => {\n",
              "      let quickchartButtonEl =\n",
              "        document.querySelector('#df-d6f14c15-09be-43cf-8a2a-b546c063a817 button');\n",
              "      quickchartButtonEl.style.display =\n",
              "        google.colab.kernel.accessAllowed ? 'block' : 'none';\n",
              "    })();\n",
              "  </script>\n",
              "</div>\n",
              "    </div>\n",
              "  </div>\n"
            ],
            "application/vnd.google.colaboratory.intrinsic+json": {
              "type": "dataframe",
              "variable_name": "df"
            }
          },
          "metadata": {},
          "execution_count": 5
        }
      ]
    },
    {
      "cell_type": "markdown",
      "source": [
        "Data ini didapatkan dari website Kaggle.com\n",
        "\n",
        "Link: kaggle.com/datasets/greysonmb/2022-world-cup-stats/versions/1?resource=download\n",
        "\n",
        "---\n",
        "\n"
      ],
      "metadata": {
        "id": "usGwgEnypipT"
      }
    },
    {
      "cell_type": "markdown",
      "source": [
        "## **Describe Data**"
      ],
      "metadata": {
        "id": "N-RGRiG6fkBW"
      }
    },
    {
      "cell_type": "markdown",
      "source": [
        "#### Informasi Dasar"
      ],
      "metadata": {
        "id": "1w0S3PmzfxFC"
      }
    },
    {
      "cell_type": "code",
      "source": [
        "df.shape"
      ],
      "metadata": {
        "id": "7DiRipvdgDFO",
        "colab": {
          "base_uri": "https://localhost:8080/"
        },
        "outputId": "8b14f8a5-1ffa-41c1-aa7b-926ab5a1634d"
      },
      "execution_count": null,
      "outputs": [
        {
          "output_type": "execute_result",
          "data": {
            "text/plain": [
              "(32, 32)"
            ]
          },
          "metadata": {},
          "execution_count": 31
        }
      ]
    },
    {
      "cell_type": "markdown",
      "source": [
        "(Jumlah baris, jumlah kolom)"
      ],
      "metadata": {
        "id": "cUx8SubrgDyH"
      }
    },
    {
      "cell_type": "markdown",
      "source": [
        "#### Informasi Lanjutan"
      ],
      "metadata": {
        "id": "MEpCShxoqdTl"
      }
    },
    {
      "cell_type": "code",
      "source": [
        "df.info()"
      ],
      "metadata": {
        "colab": {
          "base_uri": "https://localhost:8080/"
        },
        "id": "-o5NFc4wqiSm",
        "outputId": "09250bf0-e716-4e96-cf92-7ae5caee2963"
      },
      "execution_count": null,
      "outputs": [
        {
          "output_type": "stream",
          "name": "stdout",
          "text": [
            "<class 'pandas.core.frame.DataFrame'>\n",
            "RangeIndex: 32 entries, 0 to 31\n",
            "Data columns (total 32 columns):\n",
            " #   Column      Non-Null Count  Dtype  \n",
            "---  ------      --------------  -----  \n",
            " 0   Squad       32 non-null     object \n",
            " 1   # Pl        32 non-null     int64  \n",
            " 2   Age         32 non-null     float64\n",
            " 3   Poss        32 non-null     float64\n",
            " 4   MP          32 non-null     int64  \n",
            " 5   Starts      32 non-null     int64  \n",
            " 6   Min         32 non-null     int64  \n",
            " 7   90s         32 non-null     float64\n",
            " 8   Gls         32 non-null     int64  \n",
            " 9   Ast         32 non-null     int64  \n",
            " 10  G+A         32 non-null     int64  \n",
            " 11  G-PK        32 non-null     int64  \n",
            " 12  PK          32 non-null     int64  \n",
            " 13  PKatt       32 non-null     int64  \n",
            " 14  CrdY        32 non-null     int64  \n",
            " 15  CrdR        32 non-null     int64  \n",
            " 16  xG          32 non-null     float64\n",
            " 17  npxG        32 non-null     float64\n",
            " 18  xAG         32 non-null     float64\n",
            " 19  npxG+xAG    32 non-null     float64\n",
            " 20  PrgC        32 non-null     int64  \n",
            " 21  PrgP        32 non-null     int64  \n",
            " 22  Gls90       32 non-null     float64\n",
            " 23  Ast90       32 non-null     float64\n",
            " 24  G+A90       32 non-null     float64\n",
            " 25  G-PK90      32 non-null     float64\n",
            " 26  G+A-PK90    32 non-null     float64\n",
            " 27  xG90        32 non-null     float64\n",
            " 28  xAG90       32 non-null     float64\n",
            " 29  xG+xAG90    32 non-null     float64\n",
            " 30  npxG90      32 non-null     float64\n",
            " 31  npxG+xAG90  32 non-null     float64\n",
            "dtypes: float64(17), int64(14), object(1)\n",
            "memory usage: 8.1+ KB\n"
          ]
        }
      ]
    },
    {
      "cell_type": "markdown",
      "source": [
        "Tipe Data: (1)object, (2)int4, (3)float64\n",
        "\n",
        "Jumlah: 32\n",
        "\n",
        "Nama Kolom (Tipe data), (Jumlah)\n",
        "\n",
        "1. Squad (1), (32)\n",
        "2. Players (2), (32)\n",
        "3. Average Age (3), (32)\n",
        "4. Possession (3), (32)\n",
        "5. Matches Played (2), (32)\n",
        "6. Starts (2), (32)\n",
        "7. Minutes Played (2), (32)\n",
        "8. 90s Played (3), (32)\n",
        "9. Goals Scored (2), (32)\n",
        "10. Assists (2), (32)\n",
        "11. Goals and Assists (2), (32)\n",
        "12. Non-Penalty Goals (2), (32)\n",
        "13. Penalty Kicks Made (2), (32)\n",
        "14. Penalty Kicks Attempted (2), (32)\n",
        "15. Yellow Cards (2), (32)\n",
        "16. Red Cards (2), (32)\n",
        "17. Expected Goals (3), (32)\n",
        "18. Non-Penalty Expected Goals (3), (32)\n",
        "19. Expected Assisted Goals (3), (32)\n",
        "20. Non-Penalty Expected Goals plus Assisted Goals (3), (32)\n",
        "21. Progressive Carries (2), (32)\n",
        "22. Progressive Passes (2), (32)\n",
        "23. Goals Scored per 90 Minutes (3), (32)\n",
        "24. Assist per 90 Minutes (3), (32)\n",
        "25. Goals and Assist per 90 Minutes (3), (32)\n",
        "26. Non-Penalty Goals per 90 Minutes (3), (32)\n",
        "27. Non-Penalty Goals plus Assist per 90 Minutes (3), (32)\n",
        "28. Expected Goals per 90 Minutes (3), (32)\n",
        "29. Expected Assisted per 90 Minutes (3), (32)\n",
        "30. Expected Goals plus Assisted per 90 Minutes (3), (32)\n",
        "31. Non-Penalty Expected Goals per 90 Minutes (3), (32)\n",
        "32. Non-Penalty plus Assisted Goals per 90 Minutes (3), (32)\n",
        "\n",
        "Jumlah Tipe Data: Tipe Data (Jumlah)\n",
        "\n",
        "1. object (1)\n",
        "\n",
        "2. int64 (14)\n",
        "\n",
        "3. float64 (17)"
      ],
      "metadata": {
        "id": "64IJAy7Drw4j"
      }
    },
    {
      "cell_type": "markdown",
      "source": [
        "#### Informasi Statistik Deskriptif"
      ],
      "metadata": {
        "id": "0CBZ3iBVDzNV"
      }
    },
    {
      "cell_type": "code",
      "source": [
        "df.describe(include='all')"
      ],
      "metadata": {
        "colab": {
          "base_uri": "https://localhost:8080/",
          "height": 443
        },
        "id": "KDiR9Zw5D_yA",
        "outputId": "f34555a0-02ac-46d3-9f4d-92cb448a6c10"
      },
      "execution_count": null,
      "outputs": [
        {
          "output_type": "execute_result",
          "data": {
            "text/plain": [
              "            Squad       # Pl        Age       Poss         MP     Starts  \\\n",
              "count          32  32.000000  32.000000  32.000000  32.000000  32.000000   \n",
              "unique         32        NaN        NaN        NaN        NaN        NaN   \n",
              "top     Argentina        NaN        NaN        NaN        NaN        NaN   \n",
              "freq            1        NaN        NaN        NaN        NaN        NaN   \n",
              "mean          NaN  21.250000  27.196875  49.443750   4.000000  44.000000   \n",
              "std           NaN   1.951013   1.177609   9.457066   1.344043  14.784473   \n",
              "min           NaN  18.000000  24.500000  31.300000   3.000000  33.000000   \n",
              "25%           NaN  20.000000  26.575000  42.750000   3.000000  33.000000   \n",
              "50%           NaN  21.000000  27.300000  50.150000   3.500000  38.500000   \n",
              "75%           NaN  22.000000  27.850000  54.775000   4.250000  46.750000   \n",
              "max           NaN  26.000000  29.700000  75.800000   7.000000  77.000000   \n",
              "\n",
              "               Min        90s        Gls        Ast  ...      Gls90  \\\n",
              "count    32.000000  32.000000  32.000000  32.000000  ...  32.000000   \n",
              "unique         NaN        NaN        NaN        NaN  ...        NaN   \n",
              "top            NaN        NaN        NaN        NaN  ...        NaN   \n",
              "freq           NaN        NaN        NaN        NaN  ...        NaN   \n",
              "mean    369.375000   4.100000   5.312500   3.781250  ...   1.195312   \n",
              "std     135.763967   1.506973   4.130434   3.220242  ...   0.656329   \n",
              "min     270.000000   3.000000   1.000000   0.000000  ...   0.330000   \n",
              "25%     270.000000   3.000000   2.750000   1.000000  ...   0.730000   \n",
              "50%     315.000000   3.500000   4.500000   3.000000  ...   1.200000   \n",
              "75%     405.000000   4.475000   6.500000   5.000000  ...   1.670000   \n",
              "max     690.000000   7.700000  16.000000  12.000000  ...   2.600000   \n",
              "\n",
              "            Ast90      G+A90     G-PK90   G+A-PK90       xG90      xAG90  \\\n",
              "count   32.000000  32.000000  32.000000  32.000000  32.000000  32.000000   \n",
              "unique        NaN        NaN        NaN        NaN        NaN        NaN   \n",
              "top           NaN        NaN        NaN        NaN        NaN        NaN   \n",
              "freq          NaN        NaN        NaN        NaN        NaN        NaN   \n",
              "mean     0.838125   2.035312   1.081562   1.921875   1.253125   0.840625   \n",
              "std      0.544950   1.167589   0.590517   1.107766   0.555689   0.421364   \n",
              "min      0.000000   0.330000   0.000000   0.000000   0.470000   0.200000   \n",
              "25%      0.330000   1.000000   0.670000   1.000000   0.910000   0.590000   \n",
              "50%      0.710000   2.000000   1.000000   1.670000   1.140000   0.810000   \n",
              "75%      1.135000   2.752500   1.490000   2.527500   1.412500   0.950000   \n",
              "max      2.200000   4.800000   2.400000   4.600000   3.350000   2.500000   \n",
              "\n",
              "         xG+xAG90     npxG90  npxG+xAG90  \n",
              "count   32.000000  32.000000   32.000000  \n",
              "unique        NaN        NaN         NaN  \n",
              "top           NaN        NaN         NaN  \n",
              "freq          NaN        NaN         NaN  \n",
              "mean     2.095937   1.130313    1.965625  \n",
              "std      0.960067   0.499274    0.920985  \n",
              "min      0.680000   0.470000    0.680000  \n",
              "25%      1.520000   0.890000    1.470000  \n",
              "50%      1.920000   1.105000    1.845000  \n",
              "75%      2.342500   1.245000    2.190000  \n",
              "max      5.850000   3.090000    5.590000  \n",
              "\n",
              "[11 rows x 32 columns]"
            ],
            "text/html": [
              "\n",
              "  <div id=\"df-0d70b29c-1a97-4082-883c-fad380be7237\" class=\"colab-df-container\">\n",
              "    <div>\n",
              "<style scoped>\n",
              "    .dataframe tbody tr th:only-of-type {\n",
              "        vertical-align: middle;\n",
              "    }\n",
              "\n",
              "    .dataframe tbody tr th {\n",
              "        vertical-align: top;\n",
              "    }\n",
              "\n",
              "    .dataframe thead th {\n",
              "        text-align: right;\n",
              "    }\n",
              "</style>\n",
              "<table border=\"1\" class=\"dataframe\">\n",
              "  <thead>\n",
              "    <tr style=\"text-align: right;\">\n",
              "      <th></th>\n",
              "      <th>Squad</th>\n",
              "      <th># Pl</th>\n",
              "      <th>Age</th>\n",
              "      <th>Poss</th>\n",
              "      <th>MP</th>\n",
              "      <th>Starts</th>\n",
              "      <th>Min</th>\n",
              "      <th>90s</th>\n",
              "      <th>Gls</th>\n",
              "      <th>Ast</th>\n",
              "      <th>...</th>\n",
              "      <th>Gls90</th>\n",
              "      <th>Ast90</th>\n",
              "      <th>G+A90</th>\n",
              "      <th>G-PK90</th>\n",
              "      <th>G+A-PK90</th>\n",
              "      <th>xG90</th>\n",
              "      <th>xAG90</th>\n",
              "      <th>xG+xAG90</th>\n",
              "      <th>npxG90</th>\n",
              "      <th>npxG+xAG90</th>\n",
              "    </tr>\n",
              "  </thead>\n",
              "  <tbody>\n",
              "    <tr>\n",
              "      <th>count</th>\n",
              "      <td>32</td>\n",
              "      <td>32.000000</td>\n",
              "      <td>32.000000</td>\n",
              "      <td>32.000000</td>\n",
              "      <td>32.000000</td>\n",
              "      <td>32.000000</td>\n",
              "      <td>32.000000</td>\n",
              "      <td>32.000000</td>\n",
              "      <td>32.000000</td>\n",
              "      <td>32.000000</td>\n",
              "      <td>...</td>\n",
              "      <td>32.000000</td>\n",
              "      <td>32.000000</td>\n",
              "      <td>32.000000</td>\n",
              "      <td>32.000000</td>\n",
              "      <td>32.000000</td>\n",
              "      <td>32.000000</td>\n",
              "      <td>32.000000</td>\n",
              "      <td>32.000000</td>\n",
              "      <td>32.000000</td>\n",
              "      <td>32.000000</td>\n",
              "    </tr>\n",
              "    <tr>\n",
              "      <th>unique</th>\n",
              "      <td>32</td>\n",
              "      <td>NaN</td>\n",
              "      <td>NaN</td>\n",
              "      <td>NaN</td>\n",
              "      <td>NaN</td>\n",
              "      <td>NaN</td>\n",
              "      <td>NaN</td>\n",
              "      <td>NaN</td>\n",
              "      <td>NaN</td>\n",
              "      <td>NaN</td>\n",
              "      <td>...</td>\n",
              "      <td>NaN</td>\n",
              "      <td>NaN</td>\n",
              "      <td>NaN</td>\n",
              "      <td>NaN</td>\n",
              "      <td>NaN</td>\n",
              "      <td>NaN</td>\n",
              "      <td>NaN</td>\n",
              "      <td>NaN</td>\n",
              "      <td>NaN</td>\n",
              "      <td>NaN</td>\n",
              "    </tr>\n",
              "    <tr>\n",
              "      <th>top</th>\n",
              "      <td>Argentina</td>\n",
              "      <td>NaN</td>\n",
              "      <td>NaN</td>\n",
              "      <td>NaN</td>\n",
              "      <td>NaN</td>\n",
              "      <td>NaN</td>\n",
              "      <td>NaN</td>\n",
              "      <td>NaN</td>\n",
              "      <td>NaN</td>\n",
              "      <td>NaN</td>\n",
              "      <td>...</td>\n",
              "      <td>NaN</td>\n",
              "      <td>NaN</td>\n",
              "      <td>NaN</td>\n",
              "      <td>NaN</td>\n",
              "      <td>NaN</td>\n",
              "      <td>NaN</td>\n",
              "      <td>NaN</td>\n",
              "      <td>NaN</td>\n",
              "      <td>NaN</td>\n",
              "      <td>NaN</td>\n",
              "    </tr>\n",
              "    <tr>\n",
              "      <th>freq</th>\n",
              "      <td>1</td>\n",
              "      <td>NaN</td>\n",
              "      <td>NaN</td>\n",
              "      <td>NaN</td>\n",
              "      <td>NaN</td>\n",
              "      <td>NaN</td>\n",
              "      <td>NaN</td>\n",
              "      <td>NaN</td>\n",
              "      <td>NaN</td>\n",
              "      <td>NaN</td>\n",
              "      <td>...</td>\n",
              "      <td>NaN</td>\n",
              "      <td>NaN</td>\n",
              "      <td>NaN</td>\n",
              "      <td>NaN</td>\n",
              "      <td>NaN</td>\n",
              "      <td>NaN</td>\n",
              "      <td>NaN</td>\n",
              "      <td>NaN</td>\n",
              "      <td>NaN</td>\n",
              "      <td>NaN</td>\n",
              "    </tr>\n",
              "    <tr>\n",
              "      <th>mean</th>\n",
              "      <td>NaN</td>\n",
              "      <td>21.250000</td>\n",
              "      <td>27.196875</td>\n",
              "      <td>49.443750</td>\n",
              "      <td>4.000000</td>\n",
              "      <td>44.000000</td>\n",
              "      <td>369.375000</td>\n",
              "      <td>4.100000</td>\n",
              "      <td>5.312500</td>\n",
              "      <td>3.781250</td>\n",
              "      <td>...</td>\n",
              "      <td>1.195312</td>\n",
              "      <td>0.838125</td>\n",
              "      <td>2.035312</td>\n",
              "      <td>1.081562</td>\n",
              "      <td>1.921875</td>\n",
              "      <td>1.253125</td>\n",
              "      <td>0.840625</td>\n",
              "      <td>2.095937</td>\n",
              "      <td>1.130313</td>\n",
              "      <td>1.965625</td>\n",
              "    </tr>\n",
              "    <tr>\n",
              "      <th>std</th>\n",
              "      <td>NaN</td>\n",
              "      <td>1.951013</td>\n",
              "      <td>1.177609</td>\n",
              "      <td>9.457066</td>\n",
              "      <td>1.344043</td>\n",
              "      <td>14.784473</td>\n",
              "      <td>135.763967</td>\n",
              "      <td>1.506973</td>\n",
              "      <td>4.130434</td>\n",
              "      <td>3.220242</td>\n",
              "      <td>...</td>\n",
              "      <td>0.656329</td>\n",
              "      <td>0.544950</td>\n",
              "      <td>1.167589</td>\n",
              "      <td>0.590517</td>\n",
              "      <td>1.107766</td>\n",
              "      <td>0.555689</td>\n",
              "      <td>0.421364</td>\n",
              "      <td>0.960067</td>\n",
              "      <td>0.499274</td>\n",
              "      <td>0.920985</td>\n",
              "    </tr>\n",
              "    <tr>\n",
              "      <th>min</th>\n",
              "      <td>NaN</td>\n",
              "      <td>18.000000</td>\n",
              "      <td>24.500000</td>\n",
              "      <td>31.300000</td>\n",
              "      <td>3.000000</td>\n",
              "      <td>33.000000</td>\n",
              "      <td>270.000000</td>\n",
              "      <td>3.000000</td>\n",
              "      <td>1.000000</td>\n",
              "      <td>0.000000</td>\n",
              "      <td>...</td>\n",
              "      <td>0.330000</td>\n",
              "      <td>0.000000</td>\n",
              "      <td>0.330000</td>\n",
              "      <td>0.000000</td>\n",
              "      <td>0.000000</td>\n",
              "      <td>0.470000</td>\n",
              "      <td>0.200000</td>\n",
              "      <td>0.680000</td>\n",
              "      <td>0.470000</td>\n",
              "      <td>0.680000</td>\n",
              "    </tr>\n",
              "    <tr>\n",
              "      <th>25%</th>\n",
              "      <td>NaN</td>\n",
              "      <td>20.000000</td>\n",
              "      <td>26.575000</td>\n",
              "      <td>42.750000</td>\n",
              "      <td>3.000000</td>\n",
              "      <td>33.000000</td>\n",
              "      <td>270.000000</td>\n",
              "      <td>3.000000</td>\n",
              "      <td>2.750000</td>\n",
              "      <td>1.000000</td>\n",
              "      <td>...</td>\n",
              "      <td>0.730000</td>\n",
              "      <td>0.330000</td>\n",
              "      <td>1.000000</td>\n",
              "      <td>0.670000</td>\n",
              "      <td>1.000000</td>\n",
              "      <td>0.910000</td>\n",
              "      <td>0.590000</td>\n",
              "      <td>1.520000</td>\n",
              "      <td>0.890000</td>\n",
              "      <td>1.470000</td>\n",
              "    </tr>\n",
              "    <tr>\n",
              "      <th>50%</th>\n",
              "      <td>NaN</td>\n",
              "      <td>21.000000</td>\n",
              "      <td>27.300000</td>\n",
              "      <td>50.150000</td>\n",
              "      <td>3.500000</td>\n",
              "      <td>38.500000</td>\n",
              "      <td>315.000000</td>\n",
              "      <td>3.500000</td>\n",
              "      <td>4.500000</td>\n",
              "      <td>3.000000</td>\n",
              "      <td>...</td>\n",
              "      <td>1.200000</td>\n",
              "      <td>0.710000</td>\n",
              "      <td>2.000000</td>\n",
              "      <td>1.000000</td>\n",
              "      <td>1.670000</td>\n",
              "      <td>1.140000</td>\n",
              "      <td>0.810000</td>\n",
              "      <td>1.920000</td>\n",
              "      <td>1.105000</td>\n",
              "      <td>1.845000</td>\n",
              "    </tr>\n",
              "    <tr>\n",
              "      <th>75%</th>\n",
              "      <td>NaN</td>\n",
              "      <td>22.000000</td>\n",
              "      <td>27.850000</td>\n",
              "      <td>54.775000</td>\n",
              "      <td>4.250000</td>\n",
              "      <td>46.750000</td>\n",
              "      <td>405.000000</td>\n",
              "      <td>4.475000</td>\n",
              "      <td>6.500000</td>\n",
              "      <td>5.000000</td>\n",
              "      <td>...</td>\n",
              "      <td>1.670000</td>\n",
              "      <td>1.135000</td>\n",
              "      <td>2.752500</td>\n",
              "      <td>1.490000</td>\n",
              "      <td>2.527500</td>\n",
              "      <td>1.412500</td>\n",
              "      <td>0.950000</td>\n",
              "      <td>2.342500</td>\n",
              "      <td>1.245000</td>\n",
              "      <td>2.190000</td>\n",
              "    </tr>\n",
              "    <tr>\n",
              "      <th>max</th>\n",
              "      <td>NaN</td>\n",
              "      <td>26.000000</td>\n",
              "      <td>29.700000</td>\n",
              "      <td>75.800000</td>\n",
              "      <td>7.000000</td>\n",
              "      <td>77.000000</td>\n",
              "      <td>690.000000</td>\n",
              "      <td>7.700000</td>\n",
              "      <td>16.000000</td>\n",
              "      <td>12.000000</td>\n",
              "      <td>...</td>\n",
              "      <td>2.600000</td>\n",
              "      <td>2.200000</td>\n",
              "      <td>4.800000</td>\n",
              "      <td>2.400000</td>\n",
              "      <td>4.600000</td>\n",
              "      <td>3.350000</td>\n",
              "      <td>2.500000</td>\n",
              "      <td>5.850000</td>\n",
              "      <td>3.090000</td>\n",
              "      <td>5.590000</td>\n",
              "    </tr>\n",
              "  </tbody>\n",
              "</table>\n",
              "<p>11 rows × 32 columns</p>\n",
              "</div>\n",
              "    <div class=\"colab-df-buttons\">\n",
              "\n",
              "  <div class=\"colab-df-container\">\n",
              "    <button class=\"colab-df-convert\" onclick=\"convertToInteractive('df-0d70b29c-1a97-4082-883c-fad380be7237')\"\n",
              "            title=\"Convert this dataframe to an interactive table.\"\n",
              "            style=\"display:none;\">\n",
              "\n",
              "  <svg xmlns=\"http://www.w3.org/2000/svg\" height=\"24px\" viewBox=\"0 -960 960 960\">\n",
              "    <path d=\"M120-120v-720h720v720H120Zm60-500h600v-160H180v160Zm220 220h160v-160H400v160Zm0 220h160v-160H400v160ZM180-400h160v-160H180v160Zm440 0h160v-160H620v160ZM180-180h160v-160H180v160Zm440 0h160v-160H620v160Z\"/>\n",
              "  </svg>\n",
              "    </button>\n",
              "\n",
              "  <style>\n",
              "    .colab-df-container {\n",
              "      display:flex;\n",
              "      gap: 12px;\n",
              "    }\n",
              "\n",
              "    .colab-df-convert {\n",
              "      background-color: #E8F0FE;\n",
              "      border: none;\n",
              "      border-radius: 50%;\n",
              "      cursor: pointer;\n",
              "      display: none;\n",
              "      fill: #1967D2;\n",
              "      height: 32px;\n",
              "      padding: 0 0 0 0;\n",
              "      width: 32px;\n",
              "    }\n",
              "\n",
              "    .colab-df-convert:hover {\n",
              "      background-color: #E2EBFA;\n",
              "      box-shadow: 0px 1px 2px rgba(60, 64, 67, 0.3), 0px 1px 3px 1px rgba(60, 64, 67, 0.15);\n",
              "      fill: #174EA6;\n",
              "    }\n",
              "\n",
              "    .colab-df-buttons div {\n",
              "      margin-bottom: 4px;\n",
              "    }\n",
              "\n",
              "    [theme=dark] .colab-df-convert {\n",
              "      background-color: #3B4455;\n",
              "      fill: #D2E3FC;\n",
              "    }\n",
              "\n",
              "    [theme=dark] .colab-df-convert:hover {\n",
              "      background-color: #434B5C;\n",
              "      box-shadow: 0px 1px 3px 1px rgba(0, 0, 0, 0.15);\n",
              "      filter: drop-shadow(0px 1px 2px rgba(0, 0, 0, 0.3));\n",
              "      fill: #FFFFFF;\n",
              "    }\n",
              "  </style>\n",
              "\n",
              "    <script>\n",
              "      const buttonEl =\n",
              "        document.querySelector('#df-0d70b29c-1a97-4082-883c-fad380be7237 button.colab-df-convert');\n",
              "      buttonEl.style.display =\n",
              "        google.colab.kernel.accessAllowed ? 'block' : 'none';\n",
              "\n",
              "      async function convertToInteractive(key) {\n",
              "        const element = document.querySelector('#df-0d70b29c-1a97-4082-883c-fad380be7237');\n",
              "        const dataTable =\n",
              "          await google.colab.kernel.invokeFunction('convertToInteractive',\n",
              "                                                    [key], {});\n",
              "        if (!dataTable) return;\n",
              "\n",
              "        const docLinkHtml = 'Like what you see? Visit the ' +\n",
              "          '<a target=\"_blank\" href=https://colab.research.google.com/notebooks/data_table.ipynb>data table notebook</a>'\n",
              "          + ' to learn more about interactive tables.';\n",
              "        element.innerHTML = '';\n",
              "        dataTable['output_type'] = 'display_data';\n",
              "        await google.colab.output.renderOutput(dataTable, element);\n",
              "        const docLink = document.createElement('div');\n",
              "        docLink.innerHTML = docLinkHtml;\n",
              "        element.appendChild(docLink);\n",
              "      }\n",
              "    </script>\n",
              "  </div>\n",
              "\n",
              "\n",
              "<div id=\"df-1cfec251-c682-4d33-b003-fe6f4d035f32\">\n",
              "  <button class=\"colab-df-quickchart\" onclick=\"quickchart('df-1cfec251-c682-4d33-b003-fe6f4d035f32')\"\n",
              "            title=\"Suggest charts\"\n",
              "            style=\"display:none;\">\n",
              "\n",
              "<svg xmlns=\"http://www.w3.org/2000/svg\" height=\"24px\"viewBox=\"0 0 24 24\"\n",
              "     width=\"24px\">\n",
              "    <g>\n",
              "        <path d=\"M19 3H5c-1.1 0-2 .9-2 2v14c0 1.1.9 2 2 2h14c1.1 0 2-.9 2-2V5c0-1.1-.9-2-2-2zM9 17H7v-7h2v7zm4 0h-2V7h2v10zm4 0h-2v-4h2v4z\"/>\n",
              "    </g>\n",
              "</svg>\n",
              "  </button>\n",
              "\n",
              "<style>\n",
              "  .colab-df-quickchart {\n",
              "      --bg-color: #E8F0FE;\n",
              "      --fill-color: #1967D2;\n",
              "      --hover-bg-color: #E2EBFA;\n",
              "      --hover-fill-color: #174EA6;\n",
              "      --disabled-fill-color: #AAA;\n",
              "      --disabled-bg-color: #DDD;\n",
              "  }\n",
              "\n",
              "  [theme=dark] .colab-df-quickchart {\n",
              "      --bg-color: #3B4455;\n",
              "      --fill-color: #D2E3FC;\n",
              "      --hover-bg-color: #434B5C;\n",
              "      --hover-fill-color: #FFFFFF;\n",
              "      --disabled-bg-color: #3B4455;\n",
              "      --disabled-fill-color: #666;\n",
              "  }\n",
              "\n",
              "  .colab-df-quickchart {\n",
              "    background-color: var(--bg-color);\n",
              "    border: none;\n",
              "    border-radius: 50%;\n",
              "    cursor: pointer;\n",
              "    display: none;\n",
              "    fill: var(--fill-color);\n",
              "    height: 32px;\n",
              "    padding: 0;\n",
              "    width: 32px;\n",
              "  }\n",
              "\n",
              "  .colab-df-quickchart:hover {\n",
              "    background-color: var(--hover-bg-color);\n",
              "    box-shadow: 0 1px 2px rgba(60, 64, 67, 0.3), 0 1px 3px 1px rgba(60, 64, 67, 0.15);\n",
              "    fill: var(--button-hover-fill-color);\n",
              "  }\n",
              "\n",
              "  .colab-df-quickchart-complete:disabled,\n",
              "  .colab-df-quickchart-complete:disabled:hover {\n",
              "    background-color: var(--disabled-bg-color);\n",
              "    fill: var(--disabled-fill-color);\n",
              "    box-shadow: none;\n",
              "  }\n",
              "\n",
              "  .colab-df-spinner {\n",
              "    border: 2px solid var(--fill-color);\n",
              "    border-color: transparent;\n",
              "    border-bottom-color: var(--fill-color);\n",
              "    animation:\n",
              "      spin 1s steps(1) infinite;\n",
              "  }\n",
              "\n",
              "  @keyframes spin {\n",
              "    0% {\n",
              "      border-color: transparent;\n",
              "      border-bottom-color: var(--fill-color);\n",
              "      border-left-color: var(--fill-color);\n",
              "    }\n",
              "    20% {\n",
              "      border-color: transparent;\n",
              "      border-left-color: var(--fill-color);\n",
              "      border-top-color: var(--fill-color);\n",
              "    }\n",
              "    30% {\n",
              "      border-color: transparent;\n",
              "      border-left-color: var(--fill-color);\n",
              "      border-top-color: var(--fill-color);\n",
              "      border-right-color: var(--fill-color);\n",
              "    }\n",
              "    40% {\n",
              "      border-color: transparent;\n",
              "      border-right-color: var(--fill-color);\n",
              "      border-top-color: var(--fill-color);\n",
              "    }\n",
              "    60% {\n",
              "      border-color: transparent;\n",
              "      border-right-color: var(--fill-color);\n",
              "    }\n",
              "    80% {\n",
              "      border-color: transparent;\n",
              "      border-right-color: var(--fill-color);\n",
              "      border-bottom-color: var(--fill-color);\n",
              "    }\n",
              "    90% {\n",
              "      border-color: transparent;\n",
              "      border-bottom-color: var(--fill-color);\n",
              "    }\n",
              "  }\n",
              "</style>\n",
              "\n",
              "  <script>\n",
              "    async function quickchart(key) {\n",
              "      const quickchartButtonEl =\n",
              "        document.querySelector('#' + key + ' button');\n",
              "      quickchartButtonEl.disabled = true;  // To prevent multiple clicks.\n",
              "      quickchartButtonEl.classList.add('colab-df-spinner');\n",
              "      try {\n",
              "        const charts = await google.colab.kernel.invokeFunction(\n",
              "            'suggestCharts', [key], {});\n",
              "      } catch (error) {\n",
              "        console.error('Error during call to suggestCharts:', error);\n",
              "      }\n",
              "      quickchartButtonEl.classList.remove('colab-df-spinner');\n",
              "      quickchartButtonEl.classList.add('colab-df-quickchart-complete');\n",
              "    }\n",
              "    (() => {\n",
              "      let quickchartButtonEl =\n",
              "        document.querySelector('#df-1cfec251-c682-4d33-b003-fe6f4d035f32 button');\n",
              "      quickchartButtonEl.style.display =\n",
              "        google.colab.kernel.accessAllowed ? 'block' : 'none';\n",
              "    })();\n",
              "  </script>\n",
              "</div>\n",
              "    </div>\n",
              "  </div>\n"
            ],
            "application/vnd.google.colaboratory.intrinsic+json": {
              "type": "dataframe"
            }
          },
          "metadata": {},
          "execution_count": 37
        }
      ]
    },
    {
      "cell_type": "markdown",
      "source": [
        "1. Count: Jumlah entri non-null dalam kolom. Ini memberikan informasi tentang apakah ada nilai yang hilang dalam kolom.\n",
        "\n",
        "2. Unique: Jumlah nilai unik dalam kolom. Hanya relevan untuk kolom non-numerik.\n",
        "\n",
        "3. Top: Nilai yang paling sering muncul dalam kolom. Hanya relevan untuk kolom non-numerik.\n",
        "\n",
        "4. Freq: Frekuensi dari nilai yang paling sering muncul dalam kolom. Hanya relevan untuk kolom non-numerik.\n",
        "\n",
        "5. Mean: Rata-rata dari kolom numerik.\n",
        "\n",
        "6. Std: Standar deviasi dari kolom numerik.\n",
        "\n",
        "7. Min: Nilai minimum dari kolom numerik.\n",
        "\n",
        "8. 25%, 50%, 75%: Kuartil pertama, kedua (median), dan ketiga dari kolom numerik.\n",
        "\n",
        "9. Max: Nilai maksimum dari kolom numerik."
      ],
      "metadata": {
        "id": "LV1iqnblEsge"
      }
    },
    {
      "cell_type": "markdown",
      "source": [
        "## **Exploratory Data Analysis**"
      ],
      "metadata": {
        "id": "BzeheFtlFja8"
      }
    },
    {
      "cell_type": "code",
      "source": [
        "fig, ax = plt.subplots()\n",
        "\n",
        "sns.regplot(x=\"# Pl\",\n",
        "            y=\"Age\",\n",
        "            data=df,\n",
        "            ax=ax)\n",
        "\n",
        "plt.title('Regression Plots')\n",
        "plt.xlabel('Players')\n",
        "plt.ylabel('Average Age')\n",
        "plt.show()"
      ],
      "metadata": {
        "colab": {
          "base_uri": "https://localhost:8080/",
          "height": 472
        },
        "id": "YhVRzF8X_27M",
        "outputId": "50488255-dc7f-4e29-f176-8e7b332a9380"
      },
      "execution_count": null,
      "outputs": [
        {
          "output_type": "display_data",
          "data": {
            "text/plain": [
              "<Figure size 640x480 with 1 Axes>"
            ],
            "image/png": "[encoded data removed]"
          },
          "metadata": {}
        }
      ]
    },
    {
      "cell_type": "markdown",
      "source": [
        "Dalam plot regresi ini, garis lurus menunjukkan hubungan linear antara variabel x dan y. Ini membantu Anda memahami apakah ada hubungan linear antara dua variabel tertentu dalam data Anda, serta kecenderungan dan pola yang mungkin ada."
      ],
      "metadata": {
        "id": "KP-Kdv89Vjz8"
      }
    },
    {
      "cell_type": "code",
      "source": [
        "sns.distplot(df['MP'],\n",
        "            kde=True,\n",
        "            color=\"b\")\n",
        "\n",
        "plt.title('Distribution Plots')\n",
        "plt.xlabel('Matches Played')\n",
        "plt.ylabel('Density')\n",
        "plt.show()"
      ],
      "metadata": {
        "colab": {
          "base_uri": "https://localhost:8080/",
          "height": 663
        },
        "id": "R8-pknF6BrE3",
        "outputId": "49d6ba67-7b3f-4460-fdf6-c730e209a136"
      },
      "execution_count": null,
      "outputs": [
        {
          "output_type": "stream",
          "name": "stderr",
          "text": [
            "<ipython-input-113-81c2880b54cd>:1: UserWarning: \n",
            "\n",
            "`distplot` is a deprecated function and will be removed in seaborn v0.14.0.\n",
            "\n",
            "Please adapt your code to use either `displot` (a figure-level function with\n",
            "similar flexibility) or `histplot` (an axes-level function for histograms).\n",
            "\n",
            "For a guide to updating your code to use the new functions, please see\n",
            "https://gist.github.com/mwaskom/de44147ed2974457ad6372750bbe5751\n",
            "\n",
            "  sns.distplot(df['MP'],\n"
          ]
        },
        {
          "output_type": "display_data",
          "data": {
            "text/plain": [
              "<Figure size 640x480 with 1 Axes>"
            ],
            "image/png": "[encoded data removed]"
          },
          "metadata": {}
        }
      ]
    },
    {
      "cell_type": "markdown",
      "source": [
        "Dalam distribution plot ini, lihat distribusi data pada sumbu x dan kepadatan (Density) distribusi pada sumbu y. Kurva KDE (Kernel Density Estimation) menunjukkan perkiraan kepadatan probabilitas dari variabel tersebut."
      ],
      "metadata": {
        "id": "zT5NcNaOV37O"
      }
    },
    {
      "cell_type": "code",
      "source": [
        "correlation_matrix = df.corr()\n",
        "\n",
        "sns.heatmap(correlation_matrix, vmin=-0, vmax=2)\n",
        "\n",
        "plt.title('Matrix Plots Heatmap')\n",
        "plt.show()"
      ],
      "metadata": {
        "colab": {
          "base_uri": "https://localhost:8080/",
          "height": 587
        },
        "id": "K7ixL7cPGnxo",
        "outputId": "9bb432ec-23d1-4782-9297-2f6a5b8a42b6"
      },
      "execution_count": null,
      "outputs": [
        {
          "output_type": "stream",
          "name": "stderr",
          "text": [
            "<ipython-input-70-391e95bc6bcd>:1: FutureWarning: The default value of numeric_only in DataFrame.corr is deprecated. In a future version, it will default to False. Select only valid columns or specify the value of numeric_only to silence this warning.\n",
            "  correlation_matrix = df.corr()\n"
          ]
        },
        {
          "output_type": "display_data",
          "data": {
            "text/plain": [
              "<Figure size 640x480 with 2 Axes>"
            ],
            "image/png": "[encoded data removed]"
          },
          "metadata": {}
        }
      ]
    },
    {
      "cell_type": "markdown",
      "source": [
        "Dalam heatmap korelasi, warna yang lebih terang menunjukkan korelasi yang lebih kuat antara dua variabel. Nilai mendekati 0 menunjukkan tidak adanya korelasi. Anotasi dalam heatmap menunjukkan nilai korelasi yang sesuai antara pasangan variabel."
      ],
      "metadata": {
        "id": "H4gOzJi9Y8NY"
      }
    },
    {
      "cell_type": "code",
      "source": [
        "sns.stripplot(x=\"# Pl\",\n",
        "              y=\"Age\",\n",
        "              data=df)\n",
        "\n",
        "plt.title('Scatterplot')\n",
        "plt.xlabel('Players')\n",
        "plt.ylabel('Average Age')\n",
        "plt.show()"
      ],
      "metadata": {
        "colab": {
          "base_uri": "https://localhost:8080/",
          "height": 472
        },
        "id": "3qMKsskkIYYB",
        "outputId": "e911dc7b-808a-42d2-c883-94878060a380"
      },
      "execution_count": null,
      "outputs": [
        {
          "output_type": "display_data",
          "data": {
            "text/plain": [
              "<Figure size 640x480 with 1 Axes>"
            ],
            "image/png": "[encoded data removed]"
          },
          "metadata": {}
        }
      ]
    },
    {
      "cell_type": "code",
      "source": [
        "sns.swarmplot(x=\"# Pl\",\n",
        "              y=\"Age\",\n",
        "              data=df)\n",
        "\n",
        "plt.title('ScatterPlot')\n",
        "plt.xlabel('Players')\n",
        "plt.ylabel('Average Age')\n",
        "plt.show()"
      ],
      "metadata": {
        "colab": {
          "base_uri": "https://localhost:8080/",
          "height": 472
        },
        "id": "pb939ETYJEs4",
        "outputId": "08c77baa-113c-4736-f483-a98b4ba8c05e"
      },
      "execution_count": null,
      "outputs": [
        {
          "output_type": "display_data",
          "data": {
            "text/plain": [
              "<Figure size 640x480 with 1 Axes>"
            ],
            "image/png": "[encoded data removed]"
          },
          "metadata": {}
        }
      ]
    },
    {
      "cell_type": "markdown",
      "source": [
        "Dalam scatterplot ini, titik-titik akan dipetakan pada sumbu x dan y berdasarkan data yang diberikan. Ini berguna untuk melihat hubungan antara dua variabel dan pola di antara titik-titik tersebut. Jika Anda ingin menambahkan pemisahan berdasarkan kategori tertentu."
      ],
      "metadata": {
        "id": "ZDuAWWs1Ze_S"
      }
    },
    {
      "cell_type": "code",
      "source": [
        "sns.barplot(x=\"# Pl\",\n",
        "             y=\"Age\",\n",
        "             hue=\"MP\",\n",
        "             data=df)\n",
        "\n",
        "plt.title('Bar Chart')\n",
        "plt.xlabel('Players')\n",
        "plt.ylabel('Average Age')\n",
        "plt.show()"
      ],
      "metadata": {
        "colab": {
          "base_uri": "https://localhost:8080/",
          "height": 472
        },
        "id": "jWdkbNGaKYvW",
        "outputId": "1a607931-d2bb-4df2-e7f8-b1afa90ed428"
      },
      "execution_count": null,
      "outputs": [
        {
          "output_type": "display_data",
          "data": {
            "text/plain": [
              "<Figure size 640x480 with 1 Axes>"
            ],
            "image/png": "[encoded data removed]"
          },
          "metadata": {}
        }
      ]
    },
    {
      "cell_type": "markdown",
      "source": [
        "Dalam bar chart ini, tinggi setiap bar menunjukkan jumlah data dalam setiap kategori yang diberikan. Ini berguna untuk membandingkan jumlah data antar kategori atau variabel kategorikal lainnya."
      ],
      "metadata": {
        "id": "kL-_QQ0CZn4Z"
      }
    },
    {
      "cell_type": "code",
      "source": [
        "sns.countplot(x=\"MP\",\n",
        "              data=df,\n",
        "              palette=\"Greens_d\")\n",
        "\n",
        "plt.title('Count Plot')\n",
        "plt.xlabel('Matches Played')\n",
        "plt.ylabel('Squad')\n",
        "plt.show()"
      ],
      "metadata": {
        "colab": {
          "base_uri": "https://localhost:8080/",
          "height": 579
        },
        "id": "W6_dLHIkNYGE",
        "outputId": "0f72ade5-f653-4eff-d16d-988c95dae2d0"
      },
      "execution_count": null,
      "outputs": [
        {
          "output_type": "stream",
          "name": "stderr",
          "text": [
            "<ipython-input-97-769e6874d0e2>:1: FutureWarning: \n",
            "\n",
            "Passing `palette` without assigning `hue` is deprecated and will be removed in v0.14.0. Assign the `x` variable to `hue` and set `legend=False` for the same effect.\n",
            "\n",
            "  sns.countplot(x=\"MP\",\n"
          ]
        },
        {
          "output_type": "display_data",
          "data": {
            "text/plain": [
              "<Figure size 640x480 with 1 Axes>"
            ],
            "image/png": "[encoded data removed]"
          },
          "metadata": {}
        }
      ]
    },
    {
      "cell_type": "markdown",
      "source": [
        "Dalam count plot ini, tinggi setiap bar menunjukkan jumlah data dalam setiap kategori yang diberikan. Ini berguna untuk memvisualisasikan distribusi frekuensi dari variabel kategorikal."
      ],
      "metadata": {
        "id": "gGC2QHPyZ5jA"
      }
    },
    {
      "cell_type": "code",
      "source": [
        "sns.pointplot(x='# Pl', y='Age', data=df)\n",
        "\n",
        "plt.title('Point Plot')\n",
        "plt.xlabel('Players')\n",
        "plt.ylabel('Average Age')\n",
        "plt.show()"
      ],
      "metadata": {
        "colab": {
          "base_uri": "https://localhost:8080/",
          "height": 472
        },
        "id": "j4IHuzX2PVhm",
        "outputId": "84e46b8f-3f4d-41ad-930c-d2ae2b6a3072"
      },
      "execution_count": null,
      "outputs": [
        {
          "output_type": "display_data",
          "data": {
            "text/plain": [
              "<Figure size 640x480 with 1 Axes>"
            ],
            "image/png": "[encoded data removed]"
          },
          "metadata": {}
        }
      ]
    },
    {
      "cell_type": "markdown",
      "source": [
        "Dalam point plot, titik-titik dipetakan pada sumbu x dan y berdasarkan data yang diberikan. Ini berguna untuk melihat hubungan antara dua variabel dan pola di antara titik-titik tersebut."
      ],
      "metadata": {
        "id": "lLh1BOJdaFhS"
      }
    },
    {
      "cell_type": "code",
      "source": [
        "sns.boxplot(x='MP', data=df)\n",
        "\n",
        "plt.title('Box Plot')\n",
        "plt.xlabel('Matches Played')\n",
        "plt.show()"
      ],
      "metadata": {
        "colab": {
          "base_uri": "https://localhost:8080/",
          "height": 472
        },
        "id": "U2QZ2H1sSfr_",
        "outputId": "9c2f0a5c-12dc-468c-a5e3-d947e41d4b15"
      },
      "execution_count": null,
      "outputs": [
        {
          "output_type": "display_data",
          "data": {
            "text/plain": [
              "<Figure size 640x480 with 1 Axes>"
            ],
            "image/png": "[encoded data removed]"
          },
          "metadata": {}
        }
      ]
    },
    {
      "cell_type": "markdown",
      "source": [
        "Dalam boxplot, garis tengah kotak menunjukkan median, sedangkan batas bawah dan atas kotak menunjukkan kuartil pertama (Q1) dan ketiga (Q3). Boxplot sangat berguna untuk memvisualisasikan distribusi dan variabilitas data."
      ],
      "metadata": {
        "id": "POGodvhNaN8A"
      }
    },
    {
      "cell_type": "code",
      "source": [
        "sns.violinplot(x='Poss', data=df)\n",
        "plt.title('Violin Plot')\n",
        "plt.xlabel('X')\n",
        "plt.show()"
      ],
      "metadata": {
        "colab": {
          "base_uri": "https://localhost:8080/",
          "height": 472
        },
        "id": "LMO9t2zlToR5",
        "outputId": "47c5287a-b2da-4a36-88b7-f9add1d04594"
      },
      "execution_count": null,
      "outputs": [
        {
          "output_type": "display_data",
          "data": {
            "text/plain": [
              "<Figure size 640x480 with 1 Axes>"
            ],
            "image/png": "[encoded data removed]"
          },
          "metadata": {}
        }
      ]
    },
    {
      "cell_type": "markdown",
      "source": [
        "Violin plot adalah bentuk gabungan dari boxplot dan kernel density plot. Area di sekitar garis tengah violin menunjukkan distribusi data. Bentuk violin akan lebih lebar pada bagian yang memiliki lebih banyak data dan lebih tipis pada bagian yang memiliki lebih sedikit data. Violin plot berguna untuk melihat distribusi data serta perbandingan distribusi antar kelompok."
      ],
      "metadata": {
        "id": "5W56x5kUawS9"
      }
    },
    {
      "cell_type": "markdown",
      "source": [
        "## **Verify Data Quality**"
      ],
      "metadata": {
        "id": "a2YgxwpZF6hu"
      }
    },
    {
      "cell_type": "markdown",
      "source": [
        "#### Missing Values"
      ],
      "metadata": {
        "id": "-eMyhEM4J7Zl"
      }
    },
    {
      "cell_type": "code",
      "source": [
        "mv = df.isnull().sum()\n",
        "print (\"Nama Kolom|Nilai Kosong\")\n",
        "print(\"\")\n",
        "mv"
      ],
      "metadata": {
        "id": "Q-F33uXGGWD1",
        "colab": {
          "base_uri": "https://localhost:8080/"
        },
        "outputId": "85cd8a7b-14c9-4d5b-abf2-45ba56d07750"
      },
      "execution_count": null,
      "outputs": [
        {
          "output_type": "stream",
          "name": "stdout",
          "text": [
            "Nama Kolom|Nilai Kosong\n",
            "\n"
          ]
        },
        {
          "output_type": "execute_result",
          "data": {
            "text/plain": [
              "Squad         0\n",
              "# Pl          0\n",
              "Age           0\n",
              "Poss          0\n",
              "MP            0\n",
              "Starts        0\n",
              "Min           0\n",
              "90s           0\n",
              "Gls           0\n",
              "Ast           0\n",
              "G+A           0\n",
              "G-PK          0\n",
              "PK            0\n",
              "PKatt         0\n",
              "CrdY          0\n",
              "CrdR          0\n",
              "xG            0\n",
              "npxG          0\n",
              "xAG           0\n",
              "npxG+xAG      0\n",
              "PrgC          0\n",
              "PrgP          0\n",
              "Gls90         0\n",
              "Ast90         0\n",
              "G+A90         0\n",
              "G-PK90        0\n",
              "G+A-PK90      0\n",
              "xG90          0\n",
              "xAG90         0\n",
              "xG+xAG90      0\n",
              "npxG90        0\n",
              "npxG+xAG90    0\n",
              "dtype: int64"
            ]
          },
          "metadata": {},
          "execution_count": 50
        }
      ]
    },
    {
      "cell_type": "markdown",
      "source": [
        "Output akan menunjukkan \"0\" jika ada nilai kosong di dalam kolom tersebut, dan apabila output menunjukan selain \"0\" maka tidak ada nilai kosong di dalam kolom tersebut."
      ],
      "metadata": {
        "id": "aJItSJuiGC0_"
      }
    },
    {
      "cell_type": "markdown",
      "source": [
        "#### Outliers Values"
      ],
      "metadata": {
        "id": "1GYX6HFBGe5J"
      }
    },
    {
      "cell_type": "code",
      "source": [
        "def detect_outliers(df):\n",
        "    outliers = {}\n",
        "    for col in df.columns:\n",
        "        if pd.api.types.is_numeric_dtype(df[col]):\n",
        "            Q1 = df[col].quantile(0.25)\n",
        "            Q3 = df[col].quantile(0.75)\n",
        "            IQR = Q3 - Q1\n",
        "            lower_bound = Q1 - 1.5 * IQR\n",
        "            upper_bound = Q3 + 1.5 * IQR\n",
        "            outliers[col] = df[(df[col] < lower_bound) | (df[col] > upper_bound)].index.tolist()\n",
        "    return outliers\n",
        "ov = detect_outliers(df)\n",
        "ov"
      ],
      "metadata": {
        "colab": {
          "base_uri": "https://localhost:8080/"
        },
        "id": "m1IgYwrwGiWo",
        "outputId": "7d0e4ef2-fc0a-4ebf-bdce-d7e28ae56457"
      },
      "execution_count": null,
      "outputs": [
        {
          "output_type": "execute_result",
          "data": {
            "text/plain": [
              "{'# Pl': [3],\n",
              " 'Age': [29],\n",
              " 'Poss': [26],\n",
              " 'MP': [0, 7, 11, 18],\n",
              " 'Starts': [0, 7, 11, 18],\n",
              " 'Min': [0, 7, 11, 18],\n",
              " '90s': [0, 7, 11, 18],\n",
              " 'Gls': [0, 10, 11],\n",
              " 'Ast': [11],\n",
              " 'G+A': [10, 11],\n",
              " 'G-PK': [11],\n",
              " 'PK': [0],\n",
              " 'PKatt': [0],\n",
              " 'CrdY': [0, 23],\n",
              " 'CrdR': [4, 18, 19, 31],\n",
              " 'xG': [0, 3, 11],\n",
              " 'npxG': [0, 3, 11],\n",
              " 'xAG': [0, 3, 11],\n",
              " 'npxG+xAG': [0, 3, 11],\n",
              " 'PrgC': [0, 7],\n",
              " 'PrgP': [7],\n",
              " 'Gls90': [],\n",
              " 'Ast90': [],\n",
              " 'G+A90': [],\n",
              " 'G-PK90': [],\n",
              " 'G+A-PK90': [],\n",
              " 'xG90': [3, 12],\n",
              " 'xAG90': [3, 12],\n",
              " 'xG+xAG90': [3, 12],\n",
              " 'npxG90': [3, 12],\n",
              " 'npxG+xAG90': [3, 12]}"
            ]
          },
          "metadata": {},
          "execution_count": 52
        }
      ]
    },
    {
      "cell_type": "markdown",
      "source": [
        "1. '# Pl' (Players): Terdapat satu nilai outlier, yaitu 3. Ini mungkin menunjukkan bahwa ada seorang pemain yang hanya bermain dalam sedikit pertandingan.\n",
        "\n",
        "2. 'Age' (Average Age): Terdapat satu nilai outlier, yaitu 29. Ini mungkin menunjukkan bahwa ada seorang pemain dengan usia yang lebih tua dari rata-rata atau kelompok pemain tertentu dalam dataset.\n",
        "\n",
        "3. 'Poss' (Possession): Terdapat satu nilai outlier, yaitu 26. Ini mungkin menunjukkan bahwa ada seorang pemain yang memiliki jumlah posisi bola yang jauh lebih tinggi dari yang lain.\n",
        "\n",
        "4. 'MP' (Menit Bermain), 'Starts', 'Min' (Minutes Played), '90s' (90s Played): Terdapat beberapa nilai outliers pada kolom-kolom ini, menunjukkan bahwa ada beberapa pemain yang mungkin memiliki waktu bermain yang sangat rendah atau sangat tinggi dalam beberapa pertandingan.\n",
        "\n",
        "5. 'Gls' (Goals Scored), 'Ast' (Assists), 'G+A' (Goals and Assists), 'G-PK' (Non-Penalty Goals): Terdapat beberapa nilai outliers pada kolom-kolom ini, menunjukkan bahwa ada beberapa pemain yang mungkin memiliki kontribusi gol yang sangat tinggi dalam beberapa pertandingan.\n",
        "\n",
        "6. 'CrdY' (Yellow Cards), 'CrdR' (Red Cards): Terdapat beberapa nilai outliers pada kolom-kolom ini, menunjukkan bahwa ada beberapa pemain yang mungkin mendapat kartu kuning atau merah dalam jumlah yang lebih tinggi dari yang lain.\n",
        "\n",
        "7. 'xG' (Expected Goals), 'npxG' (Non-penalty Expected Goals), 'xAG' (Expected Assisted Goals), 'npxG+xAG' (Non-penalty Expected Goals plus Assisted Goals): Terdapat beberapa nilai outliers pada kolom-kolom ini, menunjukkan bahwa ada beberapa pemain yang mungkin memiliki ekspektasi kontribusi gol yang sangat tinggi dalam beberapa pertandingan.\n",
        "\n",
        "8. 'PrgC' (Progressive Carries), 'PrgP' (Progressive Passes): Terdapat beberapa nilai outliers pada kolom-kolom ini, menunjukkan bahwa ada beberapa pemain yang mungkin memiliki jumlah dribel atau operan progresif yang sangat tinggi dalam beberapa pertandingan."
      ],
      "metadata": {
        "id": "jDUCMzTcGish"
      }
    },
    {
      "cell_type": "markdown",
      "source": [
        "#### Duplicated Values"
      ],
      "metadata": {
        "id": "4dRjQE1PGm1J"
      }
    },
    {
      "cell_type": "code",
      "source": [
        "def check_duplicates(df):\n",
        "    duplicates = {}\n",
        "    for col in df.columns:\n",
        "        duplicates[col] = df[df.duplicated(col)].index.tolist()\n",
        "    return duplicates\n",
        "dv = check_duplicates(df)\n",
        "dv"
      ],
      "metadata": {
        "colab": {
          "base_uri": "https://localhost:8080/"
        },
        "id": "Ncdl7tqDGpiM",
        "outputId": "3043c17d-1478-4e47-f436-b6056a8b3e42"
      },
      "execution_count": null,
      "outputs": [
        {
          "output_type": "execute_result",
          "data": {
            "text/plain": [
              "{'Squad': [],\n",
              " '# Pl': [2,\n",
              "  6,\n",
              "  8,\n",
              "  10,\n",
              "  11,\n",
              "  12,\n",
              "  13,\n",
              "  14,\n",
              "  15,\n",
              "  16,\n",
              "  17,\n",
              "  19,\n",
              "  20,\n",
              "  21,\n",
              "  22,\n",
              "  24,\n",
              "  25,\n",
              "  26,\n",
              "  27,\n",
              "  28,\n",
              "  29,\n",
              "  30,\n",
              "  31],\n",
              " 'Age': [6, 12, 17, 18, 20, 22, 23, 24, 26, 27, 28, 30, 31],\n",
              " 'Poss': [25, 29],\n",
              " 'MP': [4,\n",
              "  5,\n",
              "  6,\n",
              "  7,\n",
              "  8,\n",
              "  9,\n",
              "  10,\n",
              "  11,\n",
              "  12,\n",
              "  13,\n",
              "  14,\n",
              "  15,\n",
              "  16,\n",
              "  17,\n",
              "  18,\n",
              "  19,\n",
              "  20,\n",
              "  21,\n",
              "  22,\n",
              "  23,\n",
              "  24,\n",
              "  25,\n",
              "  26,\n",
              "  27,\n",
              "  28,\n",
              "  29,\n",
              "  30,\n",
              "  31],\n",
              " 'Starts': [4,\n",
              "  5,\n",
              "  6,\n",
              "  7,\n",
              "  8,\n",
              "  9,\n",
              "  10,\n",
              "  11,\n",
              "  12,\n",
              "  13,\n",
              "  14,\n",
              "  15,\n",
              "  16,\n",
              "  17,\n",
              "  18,\n",
              "  19,\n",
              "  20,\n",
              "  21,\n",
              "  22,\n",
              "  23,\n",
              "  24,\n",
              "  25,\n",
              "  26,\n",
              "  27,\n",
              "  28,\n",
              "  29,\n",
              "  30,\n",
              "  31],\n",
              " 'Min': [4,\n",
              "  5,\n",
              "  6,\n",
              "  7,\n",
              "  8,\n",
              "  9,\n",
              "  12,\n",
              "  13,\n",
              "  14,\n",
              "  16,\n",
              "  17,\n",
              "  18,\n",
              "  19,\n",
              "  20,\n",
              "  21,\n",
              "  22,\n",
              "  23,\n",
              "  24,\n",
              "  25,\n",
              "  26,\n",
              "  27,\n",
              "  28,\n",
              "  29,\n",
              "  30,\n",
              "  31],\n",
              " '90s': [4,\n",
              "  5,\n",
              "  6,\n",
              "  7,\n",
              "  8,\n",
              "  9,\n",
              "  12,\n",
              "  13,\n",
              "  14,\n",
              "  16,\n",
              "  17,\n",
              "  18,\n",
              "  19,\n",
              "  20,\n",
              "  21,\n",
              "  22,\n",
              "  23,\n",
              "  24,\n",
              "  25,\n",
              "  26,\n",
              "  27,\n",
              "  28,\n",
              "  29,\n",
              "  30,\n",
              "  31],\n",
              " 'Gls': [5,\n",
              "  6,\n",
              "  7,\n",
              "  8,\n",
              "  9,\n",
              "  14,\n",
              "  15,\n",
              "  16,\n",
              "  18,\n",
              "  20,\n",
              "  22,\n",
              "  23,\n",
              "  24,\n",
              "  25,\n",
              "  27,\n",
              "  28,\n",
              "  29,\n",
              "  30,\n",
              "  31],\n",
              " 'Ast': [5,\n",
              "  6,\n",
              "  7,\n",
              "  8,\n",
              "  13,\n",
              "  14,\n",
              "  15,\n",
              "  16,\n",
              "  17,\n",
              "  18,\n",
              "  19,\n",
              "  20,\n",
              "  22,\n",
              "  23,\n",
              "  24,\n",
              "  25,\n",
              "  26,\n",
              "  27,\n",
              "  28,\n",
              "  29,\n",
              "  30],\n",
              " 'G+A': [5, 8, 9, 14, 16, 20, 22, 24, 25, 26, 27, 28, 29, 30],\n",
              " 'G-PK': [5,\n",
              "  6,\n",
              "  8,\n",
              "  9,\n",
              "  13,\n",
              "  14,\n",
              "  15,\n",
              "  16,\n",
              "  20,\n",
              "  21,\n",
              "  22,\n",
              "  23,\n",
              "  24,\n",
              "  25,\n",
              "  26,\n",
              "  27,\n",
              "  28,\n",
              "  29,\n",
              "  30],\n",
              " 'PK': [2,\n",
              "  4,\n",
              "  5,\n",
              "  6,\n",
              "  7,\n",
              "  8,\n",
              "  9,\n",
              "  10,\n",
              "  12,\n",
              "  13,\n",
              "  14,\n",
              "  15,\n",
              "  16,\n",
              "  17,\n",
              "  18,\n",
              "  19,\n",
              "  20,\n",
              "  21,\n",
              "  22,\n",
              "  23,\n",
              "  24,\n",
              "  25,\n",
              "  26,\n",
              "  27,\n",
              "  28,\n",
              "  29,\n",
              "  30,\n",
              "  31],\n",
              " 'PKatt': [2,\n",
              "  4,\n",
              "  5,\n",
              "  6,\n",
              "  7,\n",
              "  8,\n",
              "  9,\n",
              "  11,\n",
              "  12,\n",
              "  13,\n",
              "  14,\n",
              "  15,\n",
              "  16,\n",
              "  17,\n",
              "  18,\n",
              "  19,\n",
              "  20,\n",
              "  21,\n",
              "  22,\n",
              "  23,\n",
              "  24,\n",
              "  25,\n",
              "  26,\n",
              "  27,\n",
              "  28,\n",
              "  29,\n",
              "  30,\n",
              "  31],\n",
              " 'CrdY': [5,\n",
              "  6,\n",
              "  7,\n",
              "  8,\n",
              "  11,\n",
              "  12,\n",
              "  13,\n",
              "  14,\n",
              "  15,\n",
              "  16,\n",
              "  17,\n",
              "  20,\n",
              "  21,\n",
              "  22,\n",
              "  24,\n",
              "  25,\n",
              "  27,\n",
              "  28,\n",
              "  29,\n",
              "  30,\n",
              "  31],\n",
              " 'CrdR': [1,\n",
              "  2,\n",
              "  3,\n",
              "  5,\n",
              "  6,\n",
              "  7,\n",
              "  8,\n",
              "  9,\n",
              "  10,\n",
              "  11,\n",
              "  12,\n",
              "  13,\n",
              "  14,\n",
              "  15,\n",
              "  16,\n",
              "  17,\n",
              "  18,\n",
              "  19,\n",
              "  20,\n",
              "  21,\n",
              "  22,\n",
              "  23,\n",
              "  24,\n",
              "  25,\n",
              "  26,\n",
              "  27,\n",
              "  28,\n",
              "  29,\n",
              "  30,\n",
              "  31],\n",
              " 'xG': [19, 22, 24, 25, 28, 29, 30, 31],\n",
              " 'npxG': [10, 13, 19, 20, 22, 25, 28, 30],\n",
              " 'xAG': [9, 10, 20, 24, 25, 28, 29, 30, 31],\n",
              " 'npxG+xAG': [10, 15, 20, 25, 28, 30],\n",
              " 'PrgC': [8, 14, 22, 23],\n",
              " 'PrgP': [16],\n",
              " 'Gls90': [5, 8, 9, 14, 20, 22, 23, 24, 25, 27, 28, 29, 30, 31],\n",
              " 'Ast90': [5, 6, 7, 8, 13, 14, 16, 17, 22, 23, 25, 28, 29, 30],\n",
              " 'G+A90': [5, 8, 14, 16, 20, 22, 25, 28, 29, 30],\n",
              " 'G-PK90': [5, 8, 9, 13, 14, 22, 23, 24, 25, 27, 28, 29, 30],\n",
              " 'G+A-PK90': [5, 8, 14, 22, 23, 24, 26, 28, 29, 30],\n",
              " 'xG90': [16, 18, 20, 21, 31],\n",
              " 'xAG90': [15, 25, 30, 31],\n",
              " 'xG+xAG90': [28, 31],\n",
              " 'npxG90': [16, 18],\n",
              " 'npxG+xAG90': [23, 28]}"
            ]
          },
          "metadata": {},
          "execution_count": 56
        }
      ]
    },
    {
      "cell_type": "markdown",
      "source": [
        "1. 'Squad': Tidak ada nilai duplikat dalam kolom ini.\n",
        "\n",
        "2. '# Pl' (Players): Terdapat beberapa duplikat dalam kolom ini, yang menunjukkan bahwa beberapa pemain mungkin memiliki jumlah penampilan yang sama.\n",
        "\n",
        "3. 'Age' (Average Age): Terdapat beberapa duplikat dalam kolom ini, menunjukkan bahwa beberapa pemain mungkin memiliki usia yang sama.\n",
        "\n",
        "4. 'Poss' (Possession): Terdapat dua nilai duplikat dalam kolom ini.\n",
        "\n",
        "5. 'MP' (Matches Played), 'Starts', 'Min' (Minutes Played), '90s' (90s Played): Terdapat beberapa duplikat dalam kolom-kolom ini, yang menunjukkan bahwa beberapa pemain mungkin memiliki jumlah menit bermain yang sama atau jumlah pertandingan yang sama.\n",
        "\n",
        "6. 'Gls' (Goals Scored), 'Ast' (Assists), 'G+A' (Goals and Assists), 'G-PK' (Non-Penalty Goals): Terdapat beberapa duplikat dalam kolom-kolom ini, yang menunjukkan bahwa beberapa pemain mungkin memiliki kontribusi gol atau assist yang sama.\n",
        "\n",
        "7. 'PK' (Penalty), 'PKatt' (Penalty Kicks Attempted): Terdapat beberapa duplikat dalam kolom-kolom ini, menunjukkan bahwa beberapa pemain mungkin memiliki jumlah penalti yang sama atau jumlah penalti yang dicoba yang sama.\n",
        "\n",
        "8. 'CrdY' (Yellow Cards), 'CrdR' (Red Cards): Terdapat beberapa duplikat dalam kolom-kolom ini, yang menunjukkan bahwa beberapa pemain mungkin mendapat kartu kuning atau merah dalam jumlah yang sama.\n",
        "\n",
        "9. 'xG' (Expected Goals), 'npxG' (Non-penalty Expected Goals), 'xAG' (Expected Assists), 'npxG+xAG' (Non-penalty Expected Goals plus Assisted Goals): Terdapat beberapa duplikat dalam kolom-kolom ini, yang menunjukkan bahwa beberapa pemain mungkin memiliki nilai yang sama untuk ekspektasi kontribusi gol atau assist.\n",
        "\n",
        "10. 'PrgC' (Progressive Carries), 'PrgP' (Progressive Passes): Terdapat beberapa duplikat dalam kolom-kolom ini, yang menunjukkan bahwa beberapa pemain mungkin memiliki jumlah dribel atau operan progresif yang sama."
      ],
      "metadata": {
        "id": "s6G9HzxMGqAJ"
      }
    },
    {
      "cell_type": "markdown",
      "source": [
        "#### Inconsistent Values / Noise (Optional)"
      ],
      "metadata": {
        "id": "UE2PLg3eGqcr"
      }
    },
    {
      "cell_type": "code",
      "source": [
        "def check_consistency(df):\n",
        "    inconsistent_values = {}\n",
        "    for col in df.columns:\n",
        "        if pd.api.types.is_numeric_dtype(df[col]):\n",
        "            upper_limit = df[col].max()\n",
        "            lower_limit = df[col].min()\n",
        "            noisy_values = df[(df[col] > upper_limit) | (df[col] < lower_limit)].index.tolist()\n",
        "            inconsistent_values[col] = noisy_values\n",
        "        elif pd.api.types.is_datetime64_any_dtype(df[col]):\n",
        "            start_date = pd.to_datetime('1900-01-01')\n",
        "            end_date = pd.to_datetime('2022-01-01')\n",
        "            noisy_dates = df[(df[col] < start_date) | (df[col] > end_date)].index.tolist()\n",
        "            inconsistent_values[col] = noisy_dates\n",
        "        else:\n",
        "            unique_values = df[col].unique()\n",
        "            inconsistent_values[col] = unique_values\n",
        "    return inconsistent_values\n",
        "iv = check_consistency(df)\n",
        "iv\n"
      ],
      "metadata": {
        "colab": {
          "base_uri": "https://localhost:8080/"
        },
        "id": "EaFCgaO3Gx4Q",
        "outputId": "aa9c8187-7a2a-484f-ecf5-c67a6791df1a"
      },
      "execution_count": null,
      "outputs": [
        {
          "output_type": "execute_result",
          "data": {
            "text/plain": [
              "{'Squad': array(['Argentina', 'Australia', 'Belgium', 'Brazil', 'Cameroon',\n",
              "        'Canada', 'Costa Rica', 'Croatia', 'Denmark', 'Ecuador', 'England',\n",
              "        'France', 'Germany', 'Ghana', 'Iran', 'Japan', 'Korea Republic',\n",
              "        'Mexico', 'Morocco', 'Netherlands', 'Poland', 'Portugal', 'Qatar',\n",
              "        'Saudi Arabia', 'Senegal', 'Serbia', 'Spain', 'Switzerland',\n",
              "        'Tunisia', 'United States', 'Uruguay', 'Wales'], dtype=object),\n",
              " '# Pl': [],\n",
              " 'Age': [],\n",
              " 'Poss': [],\n",
              " 'MP': [],\n",
              " 'Starts': [],\n",
              " 'Min': [],\n",
              " '90s': [],\n",
              " 'Gls': [],\n",
              " 'Ast': [],\n",
              " 'G+A': [],\n",
              " 'G-PK': [],\n",
              " 'PK': [],\n",
              " 'PKatt': [],\n",
              " 'CrdY': [],\n",
              " 'CrdR': [],\n",
              " 'xG': [],\n",
              " 'npxG': [],\n",
              " 'xAG': [],\n",
              " 'npxG+xAG': [],\n",
              " 'PrgC': [],\n",
              " 'PrgP': [],\n",
              " 'Gls90': [],\n",
              " 'Ast90': [],\n",
              " 'G+A90': [],\n",
              " 'G-PK90': [],\n",
              " 'G+A-PK90': [],\n",
              " 'xG90': [],\n",
              " 'xAG90': [],\n",
              " 'xG+xAG90': [],\n",
              " 'npxG90': [],\n",
              " 'npxG+xAG90': []}"
            ]
          },
          "metadata": {},
          "execution_count": 58
        }
      ]
    },
    {
      "cell_type": "markdown",
      "source": [
        "1. 'Squad': Terdapat beberapa nilai unik yang mewakili nama tim nasional yang berbeda. Hal ini wajar dalam data seperti ini, dan tidak ada nilai inkonsisten atau noise yang terdeteksi. Setiap nilai merepresentasikan nama tim nasional yang valid.\n",
        "\n",
        "2. Kolom Lain: Tidak ada nilai inkonsisten atau noise yang terdeteksi pada kolom-kolom lain seperti jumlah pemain, usia, jumlah menit bermain, gol, assist, dan metrik lainnya. Hal ini menunjukkan bahwa data dalam kolom-kolom ini sepertinya sudah valid dan tidak mengandung nilai yang ekstrim atau tidak masuk akal."
      ],
      "metadata": {
        "id": "1ZL7zZg8GyQR"
      }
    }
  ]
}