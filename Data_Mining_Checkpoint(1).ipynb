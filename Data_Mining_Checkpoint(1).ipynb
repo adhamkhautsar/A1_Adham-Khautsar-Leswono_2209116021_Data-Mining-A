{
  "nbformat": 4,
  "nbformat_minor": 0,
  "metadata": {
    "colab": {
      "provenance": [],
      "collapsed_sections": [
        "4sOmCi50QH8d",
        "sePFiuEZROmY",
        "qL4fMYmyU3k8",
        "dORyowZwVcrq",
        "fSEy5TTxV7wz",
        "MPJSZKX-WNmm",
        "hat8k8yaXeAu"
      ],
      "authorship_tag": "ABX9TyOnbpxVH88kbKXP1zsmyCge",
      "include_colab_link": true
    },
    "kernelspec": {
      "name": "python3",
      "display_name": "Python 3"
    },
    "language_info": {
      "name": "python"
    }
  },
  "cells": [
    {
      "cell_type": "markdown",
      "metadata": {
        "id": "view-in-github",
        "colab_type": "text"
      },
      "source": [
        "<a href=\"https://colab.research.google.com/github/adhamkhautsar/A1_Adham-Khautsar-Leswono_Data-Mining-A_Checkpoint-1---Business-Understanding/blob/main/Data_Mining_Checkpoint(1).ipynb\" target=\"_parent\"><img src=\"https://colab.research.google.com/assets/colab-badge.svg\" alt=\"Open In Colab\"/></a>"
      ]
    },
    {
      "cell_type": "markdown",
      "source": [],
      "metadata": {
        "id": "SwUlqAY2P3uf"
      }
    },
    {
      "cell_type": "markdown",
      "source": [
        "# **2022 World Cup Stats**"
      ],
      "metadata": {
        "id": "4sOmCi50QH8d"
      }
    },
    {
      "cell_type": "markdown",
      "source": [
        "## Business Understanding"
      ],
      "metadata": {
        "id": "sePFiuEZROmY"
      }
    },
    {
      "cell_type": "markdown",
      "source": [
        "**Business Objective**\n",
        "\n",
        "Memahami dan menganalisis kinerja tim sepakbola dalam Piala Dunia 2022 untuk mendapatkan wawasan yang berguna bagi tim, pelatih, dan penggemar."
      ],
      "metadata": {
        "id": "lwZl3MW3R8id"
      }
    },
    {
      "cell_type": "markdown",
      "source": [
        "**Assess Situation**\n",
        "\n",
        "Meninjau kinerja tim dalam turnamen, tren permainan, performa pemain, dan faktor-faktor lain yang memengaruhi hasil pertandingan."
      ],
      "metadata": {
        "id": "l5qKO8PgUWNZ"
      }
    },
    {
      "cell_type": "markdown",
      "source": [
        "**Data Mining Goals**\n",
        "\n",
        "Menganalisis data statistik untuk mengidentifikasi pola, tren, dan faktor yang memengaruhi kinerja tim dan hasil pertandingan."
      ],
      "metadata": {
        "id": "-1yhcyZOUbFk"
      }
    },
    {
      "cell_type": "markdown",
      "source": [
        "**Perencanaan Proyek**\n",
        "\n",
        "Menetapkan langkah-langkah yang diperlukan untuk mengumpulkan, menganalisis, dan mengevaluasi data statistik Piala Dunia 2022."
      ],
      "metadata": {
        "id": "yhRWRFO6Ug7v"
      }
    },
    {
      "cell_type": "markdown",
      "source": [
        "## Data Understanding"
      ],
      "metadata": {
        "id": "qL4fMYmyU3k8"
      }
    },
    {
      "cell_type": "markdown",
      "source": [
        "**Kumpulan Data**\n",
        "\n",
        "Mengumpulkan data statistik yang mencakup hasil pertandingan, statistik pemain, posisi di lapangan, dan faktor lain yang relevan dengan kinerja tim."
      ],
      "metadata": {
        "id": "ut3L1kihVMUm"
      }
    },
    {
      "cell_type": "markdown",
      "source": [
        "**Pemeriksaan Data**\n",
        "\n",
        "Meninjau dan membersihkan data untuk menghilangkan nilai yang hilang atau tidak relevan, serta menyelesaikan masalah kualitas data seperti duplikasi atau kesalahan entri."
      ],
      "metadata": {
        "id": "UpnSNtelVW1D"
      }
    },
    {
      "cell_type": "markdown",
      "source": [
        "## Data Preparation"
      ],
      "metadata": {
        "id": "dORyowZwVcrq"
      }
    },
    {
      "cell_type": "markdown",
      "source": [
        "**Seleksi Data**\n",
        "\n",
        "Memilih atribut-atribut yang paling relevan dan signifikan untuk analisis."
      ],
      "metadata": {
        "id": "WRddJfCDVioW"
      }
    },
    {
      "cell_type": "markdown",
      "source": [
        "**Pembersihan Data**\n",
        "\n",
        "Membersihkan dan mempersiapkan data untuk analisis dengan mengisi nilai yang hilang, menormalisasi data, dan mengubah format jika diperlukan."
      ],
      "metadata": {
        "id": "bE1PAeaFVoqA"
      }
    },
    {
      "cell_type": "markdown",
      "source": [
        "## Modeling"
      ],
      "metadata": {
        "id": "fSEy5TTxV7wz"
      }
    },
    {
      "cell_type": "markdown",
      "source": [
        "**Pemilihan Model**\n",
        "\n",
        "Memilih model atau teknik analisis yang sesuai, seperti regresi, klasifikasi, atau pengelompokan."
      ],
      "metadata": {
        "id": "ZcjG69VWV_lu"
      }
    },
    {
      "cell_type": "markdown",
      "source": [
        "**Pengembangan Model**\n",
        "\n",
        "Membangun model berdasarkan data yang telah dipersiapkan dan menyesuaikan parameter untuk meningkatkan kinerja."
      ],
      "metadata": {
        "id": "5CGFbnGsWDuI"
      }
    },
    {
      "cell_type": "markdown",
      "source": [
        "## Evaluation"
      ],
      "metadata": {
        "id": "MPJSZKX-WNmm"
      }
    },
    {
      "cell_type": "markdown",
      "source": [
        "**Evaluasi Model**\n",
        "\n",
        "Melakukan evaluasi lebih lanjut terhadap model untuk memastikan kualitas dan kehandalannya."
      ],
      "metadata": {
        "id": "EPUVXiD9Wnh2"
      }
    },
    {
      "cell_type": "markdown",
      "source": [
        "**Evaluasi Hasil**\n",
        "\n",
        "Mengevaluasi hasil analisis untuk memastikan bahwa wawasan yang diperoleh sesuai dengan tujuan awal bisnis."
      ],
      "metadata": {
        "id": "oqy9gzOiXT7N"
      }
    },
    {
      "cell_type": "markdown",
      "source": [
        "## Deployment"
      ],
      "metadata": {
        "id": "hat8k8yaXeAu"
      }
    },
    {
      "cell_type": "markdown",
      "source": [
        "**Implementasi**\n",
        "\n",
        "Mengimplementasikan model dan wawasan yang diperoleh ke dalam praktik sehari-hari, seperti strategi tim, taktik permainan, atau pemilihan pemain."
      ],
      "metadata": {
        "id": "eXCdGWDNXiCk"
      }
    },
    {
      "cell_type": "markdown",
      "source": [
        "**Monitoring**\n",
        "\n",
        "Memantau kinerja dan efektivitas implementasi serta melakukan penyesuaian jika diperlukan."
      ],
      "metadata": {
        "id": "pRKYhq6jXmZr"
      }
    }
  ]
}